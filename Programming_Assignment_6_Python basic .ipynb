{
 "cells": [
  {
   "cell_type": "code",
   "execution_count": 9,
   "id": "31a8be04",
   "metadata": {},
   "outputs": [],
   "source": [
    "#1.\n",
    "\n",
    "def fibonacci(x):\n",
    "    a = 0\n",
    "    b = 1\n",
    "    for i in range(0,x+1):\n",
    "        if i ==0:\n",
    "            print(i)\n",
    "        elif i ==1:\n",
    "            print(i)\n",
    "        else:\n",
    "            a,b=b,a+b\n",
    "            print(b)\n",
    "        "
   ]
  },
  {
   "cell_type": "code",
   "execution_count": 10,
   "id": "8a8a0299",
   "metadata": {},
   "outputs": [],
   "source": [
    "#2.\n",
    "\n",
    "def factorial(x):\n",
    "    if x >0:  \n",
    "        c = 1\n",
    "        for i in range(x,1,-1):\n",
    "            c = c*i\n",
    "        print(c)\n",
    "    else:\n",
    "        print('invilid')\n",
    "    "
   ]
  },
  {
   "cell_type": "code",
   "execution_count": 15,
   "id": "bcef65a2",
   "metadata": {},
   "outputs": [],
   "source": [
    "#3.\n",
    "\n",
    "def BMI():\n",
    "    H = float(input(\"enter height in meter\"))\n",
    "    W = float(input(\"enter weight in Kg\"))\n",
    "    bmi = W/(H**2)\n",
    "    print(bmi)"
   ]
  },
  {
   "cell_type": "code",
   "execution_count": null,
   "id": "efe6ff4a",
   "metadata": {},
   "outputs": [],
   "source": [
    "#4.\n",
    "\n",
    "import math\n",
    "x =float(input(\"enter the number for its logrithmic value \"))\n",
    "if x >0:\n",
    "    print(math.log(x))\n",
    "else:\n",
    "    print(\"enter positive value\")"
   ]
  },
  {
   "cell_type": "code",
   "execution_count": 24,
   "id": "8b2965c6",
   "metadata": {},
   "outputs": [],
   "source": [
    "#5.\n",
    "\n",
    "def cube(x):\n",
    "    c = (x*(x+1)/2)**2\n",
    "    print(c)"
   ]
  }
 ],
 "metadata": {
  "kernelspec": {
   "display_name": "Python 3 (ipykernel)",
   "language": "python",
   "name": "python3"
  },
  "language_info": {
   "codemirror_mode": {
    "name": "ipython",
    "version": 3
   },
   "file_extension": ".py",
   "mimetype": "text/x-python",
   "name": "python",
   "nbconvert_exporter": "python",
   "pygments_lexer": "ipython3",
   "version": "3.9.7"
  }
 },
 "nbformat": 4,
 "nbformat_minor": 5
}
